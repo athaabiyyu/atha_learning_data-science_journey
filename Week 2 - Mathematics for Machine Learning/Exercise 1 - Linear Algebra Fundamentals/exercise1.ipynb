{
 "cells": [
  {
   "cell_type": "markdown",
   "id": "814bf945",
   "metadata": {},
   "source": [
    "##### Exercise 1 : Create Vectors and Matrices Using Numpy"
   ]
  },
  {
   "cell_type": "code",
   "execution_count": 10,
   "id": "0b5c3fe3",
   "metadata": {},
   "outputs": [
    {
     "name": "stdout",
     "output_type": "stream",
     "text": [
      "Simple Vector :  [1 3 5]\n",
      "\n",
      "Simple Matrix :\n",
      " [[ 6 19 14]\n",
      " [10  7  6]\n",
      " [18 10 10]]\n"
     ]
    }
   ],
   "source": [
    "import numpy as np\n",
    "\n",
    "# create vector\n",
    "vector = np.array([1, 3, 5])\n",
    "print(\"Simple Vector : \", vector)\n",
    "\n",
    "# create matrix\n",
    "# set seed \n",
    "np.random.seed(42)\n",
    "matrix = np.random.randint(0, 20, size=(3,3))\n",
    "print(\"\\nSimple Matrix :\\n\", matrix)"
   ]
  },
  {
   "cell_type": "markdown",
   "id": "d88d7fb4",
   "metadata": {},
   "source": [
    "##### Exercise 2 : Implement Matrix-Vector Multiplication"
   ]
  },
  {
   "cell_type": "code",
   "execution_count": 14,
   "id": "3a41e1bb",
   "metadata": {},
   "outputs": [
    {
     "name": "stdout",
     "output_type": "stream",
     "text": [
      "Matrix A : \n",
      " [[1 2 3]\n",
      " [4 5 6]]\n",
      "\n",
      "Vector A : \n",
      " [2 5 7]\n",
      "\n",
      "Matrix A x Vector A : \n",
      " [33 75]\n"
     ]
    }
   ],
   "source": [
    "matrix_a = np.array([[1, 2, 3], [4, 5, 6]])\n",
    "vector_a = np.array([2, 5, 7])\n",
    "\n",
    "results = np.dot(matrix_a, vector_a)\n",
    "\n",
    "print(\"Matrix A : \\n\", matrix_a)\n",
    "print(\"\\nVector A : \\n\", vector_a)\n",
    "print(\"\\nMatrix A x Vector A : \\n\", results)"
   ]
  },
  {
   "cell_type": "markdown",
   "id": "64bf15b8",
   "metadata": {},
   "source": [
    "##### Exercise 3 : Explore Special Matrices"
   ]
  },
  {
   "cell_type": "code",
   "execution_count": 16,
   "id": "6858a79d",
   "metadata": {},
   "outputs": [
    {
     "name": "stdout",
     "output_type": "stream",
     "text": [
      "Identity Matrix : \n",
      " [[1. 0. 0. 0.]\n",
      " [0. 1. 0. 0.]\n",
      " [0. 0. 1. 0.]\n",
      " [0. 0. 0. 1.]]\n",
      "\n",
      "Zero Matrix : \n",
      " [[0. 0.]\n",
      " [0. 0.]]\n",
      "\n",
      "Diagonal Matrix : \n",
      " [[2 0 0]\n",
      " [0 5 0]\n",
      " [0 0 7]]\n"
     ]
    }
   ],
   "source": [
    "# Identity Matrix\n",
    "identity_matrix = np.eye(4)\n",
    "print(\"Identity Matrix : \\n\", identity_matrix)\n",
    "\n",
    "# Zero Matrix\n",
    "zero_matrix = np.zeros((2,2))\n",
    "print(\"\\nZero Matrix : \\n\", zero_matrix)\n",
    "\n",
    "# Diagonal Matrix\n",
    "diagonal_matrix = np.diag([2,5,7])\n",
    "print(\"\\nDiagonal Matrix : \\n\", diagonal_matrix)\n"
   ]
  },
  {
   "cell_type": "markdown",
   "id": "2a2bd361",
   "metadata": {},
   "source": [
    "##### Additional 1 : Compute The Determinant and Inverse of 2x2 Matrix using Numpy"
   ]
  },
  {
   "cell_type": "code",
   "execution_count": 17,
   "id": "831c102c",
   "metadata": {},
   "outputs": [
    {
     "name": "stdout",
     "output_type": "stream",
     "text": [
      "Matrix :\n",
      " [[ 6 19]\n",
      " [14 10]]\n",
      "\n",
      "Determinant : -206.00000000000003\n",
      "\n",
      "Inverse :\n",
      " [[-0.04854369  0.09223301]\n",
      " [ 0.06796117 -0.02912621]]\n"
     ]
    }
   ],
   "source": [
    "np.random.seed(42)\n",
    "matrix = np.random.randint(0,20, size=(2,2))\n",
    "print(\"Matrix :\\n\", matrix)\n",
    "\n",
    "# determinant matrix\n",
    "det = np.linalg.det(matrix)\n",
    "print(\"\\nDeterminant :\", det)\n",
    "\n",
    "if det != 0:\n",
    "    inv = np.linalg.inv(matrix)\n",
    "    print(\"\\nInverse :\\n\", inv)\n",
    "else:\n",
    "    print(\"\\nMatrix tidak punya inverse (determinant = 0)\")"
   ]
  },
  {
   "cell_type": "markdown",
   "id": "2f8040f0",
   "metadata": {},
   "source": [
    "##### Additional 2 : Verify Properties of Matrix Multiplication"
   ]
  },
  {
   "cell_type": "code",
   "execution_count": 19,
   "id": "f2eaee93",
   "metadata": {},
   "outputs": [
    {
     "name": "stdout",
     "output_type": "stream",
     "text": [
      "Matrix A:\n",
      " [[1 2]\n",
      " [3 4]]\n",
      "Matrix B:\n",
      " [[2 0]\n",
      " [1 2]]\n",
      "Matrix C:\n",
      " [[0 1]\n",
      " [2 3]]\n",
      "\n",
      "Associative Law (A*B)*C == A*(B*C):\n",
      "Left side:\n",
      " [[ 8 16]\n",
      " [16 34]]\n",
      "Right side:\n",
      " [[ 8 16]\n",
      " [16 34]]\n",
      "Equal? True\n",
      "\n",
      "Distributive Law A*(B+C) == A*B + A*C:\n",
      "Left side:\n",
      " [[ 8 11]\n",
      " [18 23]]\n",
      "Right side:\n",
      " [[ 8 11]\n",
      " [18 23]]\n",
      "Equal? True\n",
      "\n",
      "Non-Commutative A*B vs B*A:\n",
      "A*B:\n",
      " [[ 4  4]\n",
      " [10  8]]\n",
      "B*A:\n",
      " [[ 2  4]\n",
      " [ 7 10]]\n",
      "Equal? False\n"
     ]
    }
   ],
   "source": [
    "# Definisikan matriks A, B, C (ukuran 2x2)\n",
    "A = np.array([[1, 2],\n",
    "              [3, 4]])\n",
    "\n",
    "B = np.array([[2, 0],\n",
    "              [1, 2]])\n",
    "\n",
    "C = np.array([[0, 1],\n",
    "              [2, 3]])\n",
    "\n",
    "print(\"Matrix A:\\n\", A)\n",
    "print(\"Matrix B:\\n\", B)\n",
    "print(\"Matrix C:\\n\", C)\n",
    "\n",
    "# 1. Associative: (A*B)*C == A*(B*C)\n",
    "left = np.dot(np.dot(A, B), C)\n",
    "right = np.dot(A, np.dot(B, C))\n",
    "print(\"\\nAssociative Law (A*B)*C == A*(B*C):\")\n",
    "print(\"Left side:\\n\", left)\n",
    "print(\"Right side:\\n\", right)\n",
    "print(\"Equal?\", np.allclose(left, right))\n",
    "\n",
    "# 2. Distributive: A*(B+C) == A*B + A*C\n",
    "left = np.dot(A, (B + C))\n",
    "right = np.dot(A, B) + np.dot(A, C)\n",
    "print(\"\\nDistributive Law A*(B+C) == A*B + A*C:\")\n",
    "print(\"Left side:\\n\", left)\n",
    "print(\"Right side:\\n\", right)\n",
    "print(\"Equal?\", np.allclose(left, right))\n",
    "\n",
    "# 3. Non-Commutative: A*B != B*A (umumnya)\n",
    "AB = np.dot(A, B)\n",
    "BA = np.dot(B, A)\n",
    "print(\"\\nNon-Commutative A*B vs B*A:\")\n",
    "print(\"A*B:\\n\", AB)\n",
    "print(\"B*A:\\n\", BA)\n",
    "print(\"Equal?\", np.allclose(AB, BA))\n"
   ]
  },
  {
   "cell_type": "markdown",
   "id": "e98c582c",
   "metadata": {},
   "source": [
    "##### Additional 3 : Create a Block Diagonal Matrix Using Numpy"
   ]
  },
  {
   "cell_type": "code",
   "execution_count": 20,
   "id": "0be55664",
   "metadata": {},
   "outputs": [
    {
     "name": "stdout",
     "output_type": "stream",
     "text": [
      "Block Diagonal Matrix:\n",
      " [[1 2 0 0]\n",
      " [3 4 0 0]\n",
      " [0 0 5 6]\n",
      " [0 0 7 8]]\n"
     ]
    }
   ],
   "source": [
    "import numpy as np\n",
    "from scipy.linalg import block_diag\n",
    "\n",
    "# dua matrix kecil\n",
    "A = np.array([[1, 2],\n",
    "              [3, 4]])\n",
    "\n",
    "B = np.array([[5, 6],\n",
    "              [7, 8]])\n",
    "\n",
    "# gabung jadi block diagonal\n",
    "block_matrix = block_diag(A, B)\n",
    "\n",
    "print(\"Block Diagonal Matrix:\\n\", block_matrix)\n"
   ]
  }
 ],
 "metadata": {
  "kernelspec": {
   "display_name": "Python 3",
   "language": "python",
   "name": "python3"
  },
  "language_info": {
   "codemirror_mode": {
    "name": "ipython",
    "version": 3
   },
   "file_extension": ".py",
   "mimetype": "text/x-python",
   "name": "python",
   "nbconvert_exporter": "python",
   "pygments_lexer": "ipython3",
   "version": "3.10.0"
  }
 },
 "nbformat": 4,
 "nbformat_minor": 5
}
