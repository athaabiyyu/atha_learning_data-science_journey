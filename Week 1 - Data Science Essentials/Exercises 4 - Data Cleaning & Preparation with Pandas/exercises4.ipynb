{
 "cells": [
  {
   "cell_type": "markdown",
   "id": "679bf305",
   "metadata": {},
   "source": [
    "##### Exercise 1 : Clean a Dataset by Handling Missing Values and Renaming Columns"
   ]
  },
  {
   "cell_type": "code",
   "execution_count": null,
   "id": "d8add5fe",
   "metadata": {},
   "outputs": [],
   "source": [
    "import pandas as pd\n",
    "import numpy as np\n",
    "\n",
    "# create a sample data\n",
    "data = {\n",
    "       \"Name\": [\"Alice\", \"Bob\", np.nan, \"David\"],\n",
    "       \"Age\": [25, np.nan, 30, 35],\n",
    "       \"Score\": [85, 90, np.nan, 88],\n",
    "}\n",
    "df = pd.DataFrame(data)\n",
    "print(\"Dataframe : \\n\", df)\n",
    "\n",
    "# cek missing values\n",
    "print(\"\\n Cek Missing Values : \\n\")\n",
    "df.isnull().sum()\n",
    "\n",
    "# handling age column using mean\n",
    "df[\"Age\"] = df[\"Age\"].fillna(df[\"Age\"].mean())\n",
    "\n",
    "# handling score column using interpolate\n",
    "df[\"Score\"] = df[\"Score\"].interpolate()\n",
    "\n",
    "# rename column\n",
    "df = df.rename(columns={\"Name\" : \"student_name\", \"Score\" : \"student_score\", \"Age\" : \"age\"})\n",
    "\n",
    "print(\"Dataframe : \\n\", df)"
   ]
  },
  {
   "cell_type": "markdown",
   "id": "a5b89a5f",
   "metadata": {},
   "source": [
    "##### Exercise 2 : Merge Two Datasets and Perform Data Transformations"
   ]
  },
  {
   "cell_type": "code",
   "execution_count": null,
   "id": "a4482165",
   "metadata": {},
   "outputs": [],
   "source": [
    "df1 = pd.DataFrame({\n",
    "       \"ID\" : [1,2,3],\n",
    "       \"Name\" : [\"Alice\", \"Bob\", \"Charlie\"], \n",
    "       \"Age\": [25,30,35]\n",
    "})\n",
    "\n",
    "df2 = pd.DataFrame({\n",
    "       \"ID\" : [1,2,3],\n",
    "       \"Score\": [80,90,85]\n",
    "})\n",
    "\n",
    "print(\"Dataset 1 : \\n \", df1)\n",
    "print(\"\\nDataset 2 : \\n \", df2)\n",
    "\n",
    "# gabung dataset\n",
    "merged_df = pd.merge(df1, df2, how=\"inner\", on=\"ID\")\n",
    "print(\"\\nMerged Dataset : \\n\", merged_df)\n",
    "\n",
    "# buat column baru\n",
    "merged_df[\"Score_Percentage\"] = (merged_df[\"Score\"] / 100) * 100\n",
    "print(\"\\nDataset : \\n\", merged_df)"
   ]
  },
  {
   "cell_type": "markdown",
   "id": "f85fc58d",
   "metadata": {},
   "source": [
    "##### Additional 1 : Drop Columns with More Than 50% missing values"
   ]
  },
  {
   "cell_type": "code",
   "execution_count": null,
   "id": "44a64475",
   "metadata": {},
   "outputs": [],
   "source": [
    "import pandas as pd\n",
    "import numpy as np\n",
    "\n",
    "# Buat dataset contoh\n",
    "data = {\n",
    "    \"Nama\": [\"Aulia\", \"Budi\", \"Citra\", \"Dewi\", \"Eka\"],\n",
    "    \"Umur\": [20, np.nan, 22, np.nan, 25], \n",
    "    \"Nilai\": [85, np.nan, np.nan, np.nan, 90],\n",
    "    \"Kota\": [\"Malang\", \"Jakarta\", \"Bandung\", None, \"Surabaya\"],\n",
    "    \"Email\": [None, None, None, \"test@mail.com\", None]\n",
    "}\n",
    "\n",
    "df = pd.DataFrame(data)\n",
    "\n",
    "print(\"Dataset asli:\\n\", df)\n",
    "\n",
    "# hitunh persentasi missing value per kolom\n",
    "missing_percent = df.isnull().sum() / len(df) * 100\n",
    "print(\"\\nPersentase missing value per kolom:\\n\", missing_percent)\n",
    "\n",
    "# drop kolom yang missing valuenya > 50\n",
    "df_clean = df.drop(columns=missing_percent[missing_percent>50].index)\n",
    "print(\"\\nDataset setelah drop kolom > 50% missing value:\\n\", df_clean)"
   ]
  }
 ],
 "metadata": {
  "kernelspec": {
   "display_name": "Python 3",
   "language": "python",
   "name": "python3"
  },
  "language_info": {
   "codemirror_mode": {
    "name": "ipython",
    "version": 3
   },
   "file_extension": ".py",
   "mimetype": "text/x-python",
   "name": "python",
   "nbconvert_exporter": "python",
   "pygments_lexer": "ipython3",
   "version": "3.10.0"
  }
 },
 "nbformat": 4,
 "nbformat_minor": 5
}
