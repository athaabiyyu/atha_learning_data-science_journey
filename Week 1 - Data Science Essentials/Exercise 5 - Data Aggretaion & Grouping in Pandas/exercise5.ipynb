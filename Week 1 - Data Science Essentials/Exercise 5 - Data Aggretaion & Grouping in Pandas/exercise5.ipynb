{
 "cells": [
  {
   "cell_type": "markdown",
   "id": "2fdead3a",
   "metadata": {},
   "source": [
    "##### Exercise 1 : Group Data by a Categorical Column"
   ]
  },
  {
   "cell_type": "code",
   "execution_count": 1,
   "id": "cdaeb569",
   "metadata": {},
   "outputs": [
    {
     "name": "stdout",
     "output_type": "stream",
     "text": [
      "Data asli:\n",
      "   Class  Score  Age\n",
      "0     A     85   15\n",
      "1     B     90   16\n",
      "2     A     88   15\n",
      "3     B     72   17\n",
      "4     C     95   16\n",
      "5     C     80   15\n",
      "\n",
      " Data Class & Mean :\n",
      "        Score   Age\n",
      "Class             \n",
      "A       86.5  15.0\n",
      "B       81.0  16.5\n",
      "C       87.5  15.5\n"
     ]
    }
   ],
   "source": [
    "import pandas as pd\n",
    "\n",
    "data = {\n",
    "    \"Class\": [\"A\",\"B\",\"A\",\"B\",\"C\",\"C\"],\n",
    "    \"Score\": [85,90,88,72,95,80],\n",
    "    \"Age\":   [15,16,15,17,16,15]\n",
    "}\n",
    "\n",
    "df = pd.DataFrame(data)\n",
    "print(\"Data asli:\\n\", df)\n",
    "\n",
    "# grouping\n",
    "grouped = df.groupby(\"Class\").mean()\n",
    "print(\"\\n Data Class & Mean :\\n\", grouped)"
   ]
  },
  {
   "cell_type": "markdown",
   "id": "9ab0bc24",
   "metadata": {},
   "source": [
    "##### Exercise 2 : Calculate Summary Statistics for Grouped Data"
   ]
  },
  {
   "cell_type": "code",
   "execution_count": 2,
   "id": "31e73958",
   "metadata": {},
   "outputs": [
    {
     "name": "stdout",
     "output_type": "stream",
     "text": [
      "Data : \n",
      "       Score           Age        \n",
      "       mean max min  mean max min\n",
      "Class                            \n",
      "A      86.5  88  85  15.0  15  15\n",
      "B      81.0  90  72  16.5  17  16\n",
      "C      87.5  95  80  15.5  16  15\n"
     ]
    }
   ],
   "source": [
    "stats = df.groupby(\"Class\").agg(\n",
    "       {\"Score\" : [\"mean\", \"max\", \"min\"],\n",
    "        \"Age\": [\"mean\", \"max\", \"min\"],\n",
    "       }\n",
    ")\n",
    "print(\"Data : \\n\", stats)"
   ]
  },
  {
   "cell_type": "markdown",
   "id": "b1bafe80",
   "metadata": {},
   "source": [
    "##### Exercise 1 : Drop Columns with More Than 50% missing values"
   ]
  }
 ],
 "metadata": {
  "kernelspec": {
   "display_name": "Python 3",
   "language": "python",
   "name": "python3"
  },
  "language_info": {
   "codemirror_mode": {
    "name": "ipython",
    "version": 3
   },
   "file_extension": ".py",
   "mimetype": "text/x-python",
   "name": "python",
   "nbconvert_exporter": "python",
   "pygments_lexer": "ipython3",
   "version": "3.10.0"
  }
 },
 "nbformat": 4,
 "nbformat_minor": 5
}
