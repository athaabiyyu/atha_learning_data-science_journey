{
 "cells": [
  {
   "cell_type": "markdown",
   "id": "57a06c82",
   "metadata": {},
   "source": [
    "##### Exercise 1 : Broadcasting Operations"
   ]
  },
  {
   "cell_type": "code",
   "execution_count": 8,
   "id": "01ab7f4a",
   "metadata": {},
   "outputs": [
    {
     "name": "stdout",
     "output_type": "stream",
     "text": [
      "Matrik A : \n",
      " [[1 2 3]\n",
      " [4 5 6]]\n",
      "Matrik Scalar Broadcasting : \n",
      " [[4 5 6]\n",
      " [7 8 9]]\n",
      "Matrik + Vector : \n",
      " [[2 2 1]\n",
      " [5 5 4]]\n"
     ]
    }
   ],
   "source": [
    "import numpy as np\n",
    "\n",
    "arr = np.array([[1,2,3], [4,5,6]])\n",
    "print(\"Matrik A : \\n\", arr)\n",
    "\n",
    "# scalar broadcasting\n",
    "scalar_broadcasting = arr + 3\n",
    "print(\"Matrik Scalar Broadcasting : \\n\", scalar_broadcasting)\n",
    "\n",
    "# matrix & vector\n",
    "vector = np.array([1, 0, -2])\n",
    "print(\"Matrik + Vector : \\n\", arr + vector)"
   ]
  },
  {
   "cell_type": "markdown",
   "id": "b41af666",
   "metadata": {},
   "source": [
    "##### Exercise 2 : Generate adn Filter a Random Dataset"
   ]
  },
  {
   "cell_type": "code",
   "execution_count": 11,
   "id": "673878a9",
   "metadata": {},
   "outputs": [
    {
     "name": "stdout",
     "output_type": "stream",
     "text": [
      "Number : \n",
      " [[15 16  4  9 18]\n",
      " [17  9 15  4  9]\n",
      " [ 7  1 16 11  4]\n",
      " [ 1 10  8  4  9]\n",
      " [ 3 12 17  6 16]]\n",
      "Filtering Dataset : \n",
      " [[ 0  0  4  9  0]\n",
      " [ 0  9  0  4  9]\n",
      " [ 7  1  0 11  4]\n",
      " [ 1 10  8  4  9]\n",
      " [ 3 12  0  6  0]]\n"
     ]
    }
   ],
   "source": [
    "import numpy as np\n",
    "\n",
    "# generate random int\n",
    "random_number = np.random.randint(1,20, size=(5,5))\n",
    "print(\"Number : \\n\", random_number)\n",
    "\n",
    "# filtering data\n",
    "random_number[random_number > 12] = 0\n",
    "print(\"Filtering Dataset : \\n\", random_number)"
   ]
  },
  {
   "cell_type": "markdown",
   "id": "5f2f678b",
   "metadata": {},
   "source": [
    "##### Additional Practice 1 : Create a 3D random array and compure statistics along specific axes"
   ]
  },
  {
   "cell_type": "code",
   "execution_count": 21,
   "id": "bdd20480",
   "metadata": {},
   "outputs": [
    {
     "name": "stdout",
     "output_type": "stream",
     "text": [
      "Dataset : \n",
      " [[[ 3  2  9]\n",
      "  [18  1  6]\n",
      "  [16 16  3]]\n",
      "\n",
      " [[13  3 12]\n",
      "  [ 3 15  2]\n",
      "  [10  6 18]]]\n",
      "\n",
      "Shape : \n",
      " (2, 3, 3)\n",
      "\n",
      "Sum - Gabungkan Lapisan : \n",
      " [[16  5 21]\n",
      " [21 16  8]\n",
      " [26 22 21]]\n",
      "\n",
      "Mean - Baris : \n",
      " [[12.33333333  6.33333333  6.        ]\n",
      " [ 8.66666667  8.         10.66666667]]\n",
      "\n",
      "Max - Kolom : \n",
      " [[ 9 18 16]\n",
      " [13 15 18]]\n"
     ]
    }
   ],
   "source": [
    "import numpy as np\n",
    "\n",
    "dataset = np.random.randint(1,20, size=(2,3,3))\n",
    "print(\"Dataset : \\n\", dataset)\n",
    "print()\n",
    "print(\"Shape : \\n\", dataset.shape)\n",
    "print()\n",
    "\n",
    "# sum - gabungan Lapisan\n",
    "print(\"Sum - Gabungkan Lapisan : \\n\", np.sum(dataset, axis=0))\n",
    "print()\n",
    "\n",
    "# mean - baris\n",
    "print(\"Mean - Baris : \\n\", np.mean(dataset, axis=1))\n",
    "print()\n",
    "\n",
    "# max - kolom\n",
    "print(\"Max - Kolom : \\n\", np.max(dataset, axis=2))\n"
   ]
  },
  {
   "cell_type": "markdown",
   "id": "8a3e5631",
   "metadata": {},
   "source": [
    "##### Additional Practice 2 : Write a program to generate a dataset of random floats and normalize the values between 0 and 1"
   ]
  },
  {
   "cell_type": "code",
   "execution_count": 23,
   "id": "80bb6c6f",
   "metadata": {},
   "outputs": [
    {
     "name": "stdout",
     "output_type": "stream",
     "text": [
      "Original Array : \n",
      " [[95.39717488 87.37287893 91.89789496 87.71331939 30.47422958]\n",
      " [44.18970395 85.06841046 18.47908618 23.77350127 49.13586551]\n",
      " [83.83494559  3.27743671 82.74354042 12.78403332 51.89815531]\n",
      " [60.60334134 12.41814598 43.67240149 32.73129299 29.68211547]\n",
      " [46.68121531  8.49379549 47.0188623  59.86554886 55.63486065]]\n",
      "\n",
      "Array after Normalization (0-1):\n",
      " [[1.         0.91289276 0.96201379 0.91658839 0.29523307]\n",
      " [0.44412053 0.88787675 0.16502055 0.22249373 0.49781328]\n",
      " [0.87448695 0.         0.86263927 0.10319826 0.52779914]\n",
      " [0.62229774 0.09922639 0.43850499 0.31973448 0.28663432]\n",
      " [0.47116698 0.05662585 0.47483228 0.61428868 0.56836271]]\n"
     ]
    }
   ],
   "source": [
    "import numpy as np\n",
    "\n",
    "arr_floats = np.random.uniform(1, 100, size=(5,5))\n",
    "print(\"Original Array : \\n\", arr_floats)\n",
    "print()\n",
    "\n",
    "arr_min = arr_floats.min()\n",
    "arr_max = arr_floats.max()\n",
    "\n",
    "normalization_arr = (arr_floats - arr_min) / (arr_max-arr_min)\n",
    "print(\"Array after Normalization (0-1):\\n\", normalization_arr)"
   ]
  },
  {
   "cell_type": "markdown",
   "id": "0e790346",
   "metadata": {},
   "source": [
    "##### Additional Practice 3 : Implement conditonal replacement to create binary mask for values above a threshold"
   ]
  },
  {
   "cell_type": "code",
   "execution_count": 25,
   "id": "df8807e2",
   "metadata": {},
   "outputs": [
    {
     "name": "stdout",
     "output_type": "stream",
     "text": [
      "Original Data : \n",
      " [[75.41337603 61.75382732 96.4097866  21.73262488 21.1703037 ]\n",
      " [53.97072395 87.52756433 48.0133244  96.14232587 22.37328289]\n",
      " [30.63177544 41.55285043 20.01130934 82.4424143  15.48897124]\n",
      " [45.49051784 29.00072842 41.8731778  67.62209747 98.52736317]\n",
      " [92.10706899 61.10068647  9.40347515 23.82338987 66.7981489 ]]\n",
      "\n",
      "Binary mask (1 jika > 50, else 0):\n",
      " [[1 1 1 0 0]\n",
      " [1 1 0 1 0]\n",
      " [0 0 0 1 0]\n",
      " [0 0 0 1 1]\n",
      " [1 1 0 0 1]]\n"
     ]
    }
   ],
   "source": [
    "import numpy as np\n",
    "\n",
    "data = np.random.uniform(0, 100, size=(5,5))\n",
    "print(\"Original Data : \\n\", data)\n",
    "\n",
    "# make threshold\n",
    "threshold = 50\n",
    "\n",
    "# make binary mask\n",
    "mask = np.where(data > threshold, 1, 0)\n",
    "print(\"\\nBinary mask (1 jika > 50, else 0):\\n\", mask)\n"
   ]
  }
 ],
 "metadata": {
  "kernelspec": {
   "display_name": "Python 3",
   "language": "python",
   "name": "python3"
  },
  "language_info": {
   "codemirror_mode": {
    "name": "ipython",
    "version": 3
   },
   "file_extension": ".py",
   "mimetype": "text/x-python",
   "name": "python",
   "nbconvert_exporter": "python",
   "pygments_lexer": "ipython3",
   "version": "3.10.0"
  }
 },
 "nbformat": 4,
 "nbformat_minor": 5
}
