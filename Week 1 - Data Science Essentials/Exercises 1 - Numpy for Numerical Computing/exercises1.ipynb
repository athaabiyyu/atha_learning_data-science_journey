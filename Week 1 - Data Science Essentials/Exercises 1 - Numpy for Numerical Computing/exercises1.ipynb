{
 "cells": [
  {
   "cell_type": "markdown",
   "id": "c5dd3183",
   "metadata": {},
   "source": [
    "##### Exercise 1 : Generate Arrays for Basic Mathematical Operations"
   ]
  },
  {
   "cell_type": "code",
   "execution_count": 4,
   "id": "04636ce0",
   "metadata": {},
   "outputs": [
    {
     "name": "stdout",
     "output_type": "stream",
     "text": [
      "Array a: [1 2 3 4 5 6 7 8 9]\n",
      "Array b: [11 12 13 14 15 16 17 18 19]\n",
      "\n",
      "Operations between a and b:\n",
      "\n",
      "Addition:  [12 14 16 18 20 22 24 26 28]\n",
      "\n",
      "Subtraction:  [-10 -10 -10 -10 -10 -10 -10 -10 -10]\n",
      "\n",
      "Multiplication:  [ 11  24  39  56  75  96 119 144 171]\n",
      "\n",
      "Division:  [0.09090909 0.16666667 0.23076923 0.28571429 0.33333333 0.375\n",
      " 0.41176471 0.44444444 0.47368421]\n"
     ]
    }
   ],
   "source": [
    "import numpy as np \n",
    "\n",
    "a = np.arange(1,10)\n",
    "b = np.arange(11,20)\n",
    "print(\"Array a:\", a)\n",
    "print(\"Array b:\", b)\n",
    "print()\n",
    "print(\"Operations between a and b:\")\n",
    "print()\n",
    "print(\"Addition: \", a + b)\n",
    "print()\n",
    "print(\"Subtraction: \", a - b)\n",
    "print()\n",
    "print(\"Multiplication: \", a * b)\n",
    "print()\n",
    "print(\"Division: \", a / b)"
   ]
  },
  {
   "cell_type": "markdown",
   "id": "999ef78e",
   "metadata": {},
   "source": [
    "##### Exercise 2 : Create a 3x3 Matrix and Perform Operation"
   ]
  },
  {
   "cell_type": "code",
   "execution_count": 9,
   "id": "3defa621",
   "metadata": {},
   "outputs": [
    {
     "name": "stdout",
     "output_type": "stream",
     "text": [
      "3x3 Matrix A:\n",
      " [[1 2 3]\n",
      " [4 5 6]\n",
      " [7 8 9]] \n",
      "\n",
      "3x3 Matrix B:\n",
      " [[11 12 13]\n",
      " [14 15 16]\n",
      " [17 18 19]] \n",
      "\n",
      "Operations between matrixA and matrixB: \n",
      "\n",
      "Matrix Addition:\n",
      " [[12 14 16]\n",
      " [18 20 22]\n",
      " [24 26 28]] \n",
      "\n",
      "Matrix Subtraction:\n",
      " [[-10 -10 -10]\n",
      " [-10 -10 -10]\n",
      " [-10 -10 -10]] \n",
      "\n",
      "Matrix Multiplication:\n",
      " [[ 11  24  39]\n",
      " [ 56  75  96]\n",
      " [119 144 171]] \n",
      "\n",
      "Matrix Division:\n",
      " [[0.09090909 0.16666667 0.23076923]\n",
      " [0.28571429 0.33333333 0.375     ]\n",
      " [0.41176471 0.44444444 0.47368421]]\n"
     ]
    }
   ],
   "source": [
    "import numpy as np\n",
    "\n",
    "matrixA = np.arange(1, 10).reshape(3, 3)\n",
    "matrixB = np.arange(11, 20).reshape(3, 3)\n",
    "print(\"3x3 Matrix A:\\n\", matrixA, \"\\n\")\n",
    "print(\"3x3 Matrix B:\\n\", matrixB, \"\\n\")\n",
    "print(\"Operations between matrixA and matrixB:\", \"\\n\")\n",
    "print(\"Matrix Addition:\\n\", matrixA + matrixB, \"\\n\")\n",
    "print(\"Matrix Subtraction:\\n\", matrixA - matrixB, \"\\n\")\n",
    "print(\"Matrix Multiplication:\\n\", matrixA * matrixB, \"\\n\")\n",
    "print(\"Matrix Division:\\n\", matrixA / matrixB)\n"
   ]
  },
  {
   "cell_type": "markdown",
   "id": "fe7d5181",
   "metadata": {},
   "source": [
    "##### Additional Practice : Create a 4x4 matrix and calculate the sum of its rows and columns"
   ]
  },
  {
   "cell_type": "code",
   "execution_count": 12,
   "id": "7945eaa0",
   "metadata": {},
   "outputs": [
    {
     "name": "stdout",
     "output_type": "stream",
     "text": [
      "4x4 Matrix:\n",
      " [[ 1  2  3  4]\n",
      " [ 5  6  7  8]\n",
      " [ 9 10 11 12]\n",
      " [13 14 15 16]] \n",
      "\n",
      "Sum of each column: [28 32 36 40]\n",
      "Sum of each row: [10 26 42 58]\n"
     ]
    }
   ],
   "source": [
    "import numpy as np\n",
    "\n",
    "matrix = np.arange(1,17).reshape(4,4)\n",
    "print(\"4x4 Matrix:\\n\", matrix, \"\\n\")\n",
    "print(\"Sum of each column:\", np.sum(matrix, axis=0))\n",
    "print(\"Sum of each row:\", np.sum(matrix, axis=1))"
   ]
  },
  {
   "cell_type": "markdown",
   "id": "c97ebf73",
   "metadata": {},
   "source": [
    "##### Additional Practice : Write a program to normalize an array (scale values between 0 and 1)"
   ]
  },
  {
   "cell_type": "code",
   "execution_count": 14,
   "id": "97c2c1ab",
   "metadata": {},
   "outputs": [
    {
     "name": "stdout",
     "output_type": "stream",
     "text": [
      "Original array: [10 20 30 40 50]\n",
      "Normalized array: [0.   0.25 0.5  0.75 1.  ]\n"
     ]
    }
   ],
   "source": [
    "import numpy as np\n",
    "\n",
    "arr = np.array([10, 20, 30, 40, 50])\n",
    "print(\"Original array:\", arr)\n",
    "\n",
    "arr_min = arr.min()\n",
    "arr_max = arr.max()\n",
    "\n",
    "normalized_arr = (arr - arr_min) / (arr_max - arr_min)\n",
    "print(\"Normalized array:\", normalized_arr)"
   ]
  },
  {
   "cell_type": "markdown",
   "id": "e146042b",
   "metadata": {},
   "source": [
    "##### Additional Practice : Generate a random array and find the minimum and maximum values"
   ]
  },
  {
   "cell_type": "code",
   "execution_count": 18,
   "id": "2e25ce89",
   "metadata": {},
   "outputs": [
    {
     "name": "stdout",
     "output_type": "stream",
     "text": [
      "Random Array: [0.45719186 0.26737734 0.19512313 0.80008599 0.00868731]\n",
      "Minimum value: 0.008687306027715835\n",
      "Maximum value: 0.8000859893002757\n"
     ]
    }
   ],
   "source": [
    "import numpy as np\n",
    "\n",
    "random_array = np.random.rand(5)\n",
    "print(\"Random Array:\", random_array)\n",
    "print(\"Minimum value:\", random_array.min())\n",
    "print(\"Maximum value:\", random_array.max())"
   ]
  }
 ],
 "metadata": {
  "kernelspec": {
   "display_name": "Python 3",
   "language": "python",
   "name": "python3"
  },
  "language_info": {
   "codemirror_mode": {
    "name": "ipython",
    "version": 3
   },
   "file_extension": ".py",
   "mimetype": "text/x-python",
   "name": "python",
   "nbconvert_exporter": "python",
   "pygments_lexer": "ipython3",
   "version": "3.10.0"
  }
 },
 "nbformat": 4,
 "nbformat_minor": 5
}
